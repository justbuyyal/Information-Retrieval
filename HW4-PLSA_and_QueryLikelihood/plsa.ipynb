{
 "metadata": {
  "language_info": {
   "codemirror_mode": {
    "name": "ipython",
    "version": 3
   },
   "file_extension": ".py",
   "mimetype": "text/x-python",
   "name": "python",
   "nbconvert_exporter": "python",
   "pygments_lexer": "ipython3",
   "version": "3.8.3-final"
  },
  "orig_nbformat": 2,
  "kernelspec": {
   "name": "python3",
   "display_name": "Python 3"
  }
 },
 "nbformat": 4,
 "nbformat_minor": 2,
 "cells": [
  {
   "cell_type": "code",
   "execution_count": 1,
   "metadata": {},
   "outputs": [],
   "source": [
    "# IR HW4 PLSA and Query likelihood\n",
    "path = './ntust-ir-2020_hw4_v2/'"
   ]
  },
  {
   "cell_type": "code",
   "execution_count": 2,
   "metadata": {},
   "outputs": [],
   "source": [
    "import numpy as np\n",
    "from tqdm import tqdm\n",
    "import random\n",
    "import math\n",
    "from numba import jit\n",
    "from collections import Counter\n",
    "import time"
   ]
  },
  {
   "cell_type": "code",
   "execution_count": 3,
   "metadata": {},
   "outputs": [],
   "source": [
    "doc = []\n",
    "doc_list = []\n",
    "doc_len_list = []\n",
    "query = []\n",
    "query_list = []\n",
    "terms_set =  set()\n",
    "TF = Counter()\n",
    "w_d = []\n",
    "all_d_len = 0"
   ]
  },
  {
   "cell_type": "code",
   "execution_count": 4,
   "metadata": {},
   "outputs": [
    {
     "output_type": "stream",
     "name": "stderr",
     "text": [
      "100%|██████████| 14955/14955 [01:13<00:00, 202.41it/s]\n"
     ]
    }
   ],
   "source": [
    "# get doc files and query files\n",
    "with open(path + 'query_list.txt', 'r') as fq:\n",
    "    line = fq.read().splitlines()\n",
    "    for l in line:\n",
    "        query_list.append(l)\n",
    "        f_temp = open(path + 'queries/{}.txt'.format(l))\n",
    "        temp_query = f_temp.read().split()\n",
    "        query.append(temp_query)\n",
    "        for w in temp_query:\n",
    "            terms_set.add(w)\n",
    "        f_temp.close()\n",
    "with open(path + 'doc_list.txt', 'r') as fd:\n",
    "    line = fd.read().splitlines()\n",
    "    for l in tqdm(line):\n",
    "        f_temp = open(path + 'docs/{}.txt'.format(l))\n",
    "        temp_doc = f_temp.read().split()\n",
    "        all_d_len += len(temp_doc)\n",
    "        doc.append(temp_doc)\n",
    "        doc_list.append(l)\n",
    "        doc_len_list.append(len(temp_doc))\n",
    "        TF.update(temp_doc)\n",
    "        f_temp.close()"
   ]
  },
  {
   "cell_type": "code",
   "execution_count": 5,
   "metadata": {
    "tags": []
   },
   "outputs": [],
   "source": [
    "# terms_set\n",
    "kill_list = []\n",
    "for k,v in TF.items():\n",
    "    if(not(k in terms_set) and v < 450):\n",
    "        kill_list.append(k)\n",
    "    elif(not(k in terms_set)):\n",
    "        terms_set.add(k)\n",
    "for k in kill_list:\n",
    "    del TF[k]"
   ]
  },
  {
   "cell_type": "code",
   "execution_count": 6,
   "metadata": {},
   "outputs": [],
   "source": [
    "terms_set = list(terms_set)\n",
    "d_len = len(doc_list)\n",
    "q_len = len(query_list)\n",
    "w_len = len(terms_set)\n",
    "p_q_d = np.ones([q_len, d_len], dtype=np.float64)\n",
    "K = 32\n",
    "iteration = 35"
   ]
  },
  {
   "cell_type": "code",
   "execution_count": 7,
   "metadata": {},
   "outputs": [
    {
     "output_type": "stream",
     "name": "stderr",
     "text": [
      "100%|██████████| 32/32 [00:00<00:00, 332.25it/s]\n"
     ]
    }
   ],
   "source": [
    "# initialization\n",
    "p_k_w_d = np.zeros([K, w_len, d_len], dtype=float)\n",
    "p_w_k = np.zeros([w_len, K], dtype=float)\n",
    "p_k_d = np.zeros([K, d_len], dtype=float)\n",
    "w_d = np.zeros([w_len, d_len], dtype=float)\n",
    "# P(wi | Tk) random\n",
    "for k in tqdm(range(K)):\n",
    "    sum = 0\n",
    "    for w in range(w_len):\n",
    "        temp = random.uniform(1.0, 10.0)    \n",
    "        p_w_k[w][k] = temp\n",
    "        sum += temp\n",
    "    for w in range(w_len):\n",
    "        p_w_k[w][k] /= sum\n",
    "# P(Tk | dj) uniform\n",
    "p_k_d.fill(1/K)"
   ]
  },
  {
   "cell_type": "code",
   "execution_count": 8,
   "metadata": {},
   "outputs": [
    {
     "output_type": "stream",
     "name": "stderr",
     "text": [
      "100%|██████████| 14955/14955 [00:19<00:00, 755.39it/s]\n"
     ]
    }
   ],
   "source": [
    "# w_d\n",
    "for d in tqdm(range(d_len)):\n",
    "    d_counter = Counter(doc[d])\n",
    "    for w in range(w_len):\n",
    "        w_d[w][d] = d_counter[terms_set[w]]"
   ]
  },
  {
   "cell_type": "code",
   "execution_count": 9,
   "metadata": {},
   "outputs": [],
   "source": [
    "# BackGround\n",
    "bg = np.zeros(w_len, dtype=int)\n",
    "def BG():\n",
    "    for w in tqdm(range(w_len)):\n",
    "        bg[w] = np.nansum(w_d[w])"
   ]
  },
  {
   "cell_type": "code",
   "execution_count": 10,
   "metadata": {},
   "outputs": [
    {
     "output_type": "stream",
     "name": "stderr",
     "text": [
      "100%|██████████| 2619/2619 [00:00<00:00, 25313.00it/s]\n"
     ]
    }
   ],
   "source": [
    "BG()"
   ]
  },
  {
   "cell_type": "code",
   "execution_count": 11,
   "metadata": {},
   "outputs": [],
   "source": [
    "# Loss\n",
    "@jit(nopython= True)\n",
    "def loss(pwk, pkd, wd, wl, dl):\n",
    "    pk = np.dot(pwk, pkd) # w * d\n",
    "    pk = pk / dl + 0.1\n",
    "    pk = np.log(pk)\n",
    "    loss = 0.0\n",
    "    for w in range(wl):\n",
    "        for d in range(dl):\n",
    "            loss += wd[w][d] * pk[w][d]\n",
    "    return loss"
   ]
  },
  {
   "cell_type": "code",
   "execution_count": 12,
   "metadata": {},
   "outputs": [],
   "source": [
    "@jit(nopython= True)\n",
    "def E_step(pkwd, pwk, pkd, wl, dl, k):\n",
    "    e_den = np.dot(pwk, pkd) # w * d\n",
    "    # E_Step\n",
    "    for w in range(wl):\n",
    "        for d in range(dl):\n",
    "            for c in range(k):\n",
    "                if(not(e_den[w][d] == 0)):\n",
    "                    pkwd[c][w][d] = (pwk[w][c] * pkd[c][d] / e_den[w][d])\n",
    "    return pkwd"
   ]
  },
  {
   "cell_type": "code",
   "execution_count": 13,
   "metadata": {},
   "outputs": [],
   "source": [
    "@jit(nopython= True)\n",
    "def M_step(pwk, wd, pkwd, k, wl, dl):\n",
    "    # M_Step\n",
    "    for c in range(k):\n",
    "        m_temp = np.copy(wd)\n",
    "        for w in range(wl):\n",
    "            for d in range(dl):\n",
    "                m_temp[w][d] *= pkwd[c][w][d]\n",
    "        m_den = np.sum(m_temp)\n",
    "        if(not(m_den == 0)):\n",
    "            for w in range(wl):\n",
    "                    pwk[w][c] = np.sum(m_temp[w]) / m_den\n",
    "    return pwk"
   ]
  },
  {
   "cell_type": "code",
   "execution_count": 14,
   "metadata": {},
   "outputs": [],
   "source": [
    "@jit(nopython= True)\n",
    "def P_K_D(pkd, wd, pkwd, k, wl, dl, dl_list):\n",
    "    for c in range(k):\n",
    "        for d in range(dl):\n",
    "            sum = 0.0\n",
    "            for w in range(wl):\n",
    "                sum += wd[w][d] * pkwd[c][w][d]\n",
    "            pkd[c][d] = sum / dl_list[d]\n",
    "    return pkd"
   ]
  },
  {
   "cell_type": "code",
   "execution_count": 15,
   "metadata": {
    "tags": []
   },
   "outputs": [
    {
     "output_type": "stream",
     "name": "stdout",
     "text": [
      "Iteration 1:\n",
      "\n",
      "\n",
      "E_step_1: \n",
      "Time = 13.649882078170776 sec\n",
      "\n",
      "\n",
      "M_step_1: \n",
      " Time = 12.073198556900024 sec\n",
      "\n",
      "P(Tk | dj)_1: \n",
      "Time = 22.361243963241577 sec\n",
      "\n",
      "Loss_1 = 12889384.59412215\n",
      "\n",
      "\n",
      "Iteration 2:\n",
      "\n",
      "\n",
      "E_step_2: \n",
      "Time = 4.931212425231934 sec\n",
      "\n",
      "\n",
      "M_step_2: \n",
      " Time = 8.505075931549072 sec\n",
      "\n",
      "P(Tk | dj)_2: \n",
      "Time = 21.567670583724976 sec\n",
      "\n",
      "Loss_2 = 0.015555208548903465\n",
      "\n",
      "\n",
      "Iteration 3:\n",
      "\n",
      "\n",
      "E_step_3: \n",
      "Time = 2.1868863105773926 sec\n",
      "\n",
      "\n",
      "M_step_3: \n",
      " Time = 8.468501806259155 sec\n",
      "\n",
      "P(Tk | dj)_3: \n",
      "Time = 21.816114902496338 sec\n",
      "\n",
      "Loss_3 = 0.031223611906170845\n",
      "\n",
      "\n",
      "Iteration 4:\n",
      "\n",
      "\n",
      "E_step_4: \n",
      "Time = 2.4079296588897705 sec\n",
      "\n",
      "\n",
      "M_step_4: \n",
      " Time = 8.577717542648315 sec\n",
      "\n",
      "P(Tk | dj)_4: \n",
      "Time = 21.736992359161377 sec\n",
      "\n",
      "Loss_4 = 0.07838798128068447\n",
      "\n",
      "\n",
      "Iteration 5:\n",
      "\n",
      "\n",
      "E_step_5: \n",
      "Time = 2.660743474960327 sec\n",
      "\n",
      "\n",
      "M_step_5: \n",
      " Time = 8.3782799243927 sec\n",
      "\n",
      "P(Tk | dj)_5: \n",
      "Time = 21.961570978164673 sec\n",
      "\n",
      "Loss_5 = 0.24729678593575954\n",
      "\n",
      "\n",
      "Iteration 6:\n",
      "\n",
      "\n",
      "E_step_6: \n",
      "Time = 2.4618325233459473 sec\n",
      "\n",
      "\n",
      "M_step_6: \n",
      " Time = 8.447790145874023 sec\n",
      "\n",
      "P(Tk | dj)_6: \n",
      "Time = 21.7901828289032 sec\n",
      "\n",
      "Loss_6 = 0.737790135666728\n",
      "\n",
      "\n",
      "Iteration 7:\n",
      "\n",
      "\n",
      "E_step_7: \n",
      "Time = 2.6827917098999023 sec\n",
      "\n",
      "\n",
      "M_step_7: \n",
      " Time = 8.330070495605469 sec\n",
      "\n",
      "P(Tk | dj)_7: \n",
      "Time = 21.111119031906128 sec\n",
      "\n",
      "Loss_7 = 1.277582673355937\n",
      "\n",
      "\n",
      "Iteration 8:\n",
      "\n",
      "\n",
      "E_step_8: \n",
      "Time = 2.1708896160125732 sec\n",
      "\n",
      "\n",
      "M_step_8: \n",
      " Time = 8.23268747329712 sec\n",
      "\n",
      "P(Tk | dj)_8: \n",
      "Time = 21.71822214126587 sec\n",
      "\n",
      "Loss_8 = 1.2303166184574366\n",
      "\n",
      "\n",
      "Iteration 9:\n",
      "\n",
      "\n",
      "E_step_9: \n",
      "Time = 2.844709634780884 sec\n",
      "\n",
      "\n",
      "M_step_9: \n",
      " Time = 8.478205919265747 sec\n",
      "\n",
      "P(Tk | dj)_9: \n"
     ]
    },
    {
     "output_type": "error",
     "ename": "KeyboardInterrupt",
     "evalue": "",
     "traceback": [
      "\u001b[1;31m---------------------------------------------------------------------------\u001b[0m",
      "\u001b[1;31mKeyboardInterrupt\u001b[0m                         Traceback (most recent call last)",
      "\u001b[1;32m<ipython-input-15-b59c5e67f4ee>\u001b[0m in \u001b[0;36m<module>\u001b[1;34m\u001b[0m\n\u001b[0;32m     14\u001b[0m     \u001b[0mprint\u001b[0m\u001b[1;33m(\u001b[0m\u001b[1;34m'P(Tk | dj)_{}: '\u001b[0m\u001b[1;33m.\u001b[0m\u001b[0mformat\u001b[0m\u001b[1;33m(\u001b[0m\u001b[0mi\u001b[0m\u001b[1;33m+\u001b[0m\u001b[1;36m1\u001b[0m\u001b[1;33m)\u001b[0m\u001b[1;33m)\u001b[0m\u001b[1;33m\u001b[0m\u001b[1;33m\u001b[0m\u001b[0m\n\u001b[0;32m     15\u001b[0m     \u001b[0mp_start\u001b[0m \u001b[1;33m=\u001b[0m \u001b[0mtime\u001b[0m\u001b[1;33m.\u001b[0m\u001b[0mtime\u001b[0m\u001b[1;33m(\u001b[0m\u001b[1;33m)\u001b[0m\u001b[1;33m\u001b[0m\u001b[1;33m\u001b[0m\u001b[0m\n\u001b[1;32m---> 16\u001b[1;33m     \u001b[0mp_k_d\u001b[0m \u001b[1;33m=\u001b[0m \u001b[0mP_K_D\u001b[0m\u001b[1;33m(\u001b[0m\u001b[0mp_k_d\u001b[0m\u001b[1;33m,\u001b[0m \u001b[0mw_d\u001b[0m\u001b[1;33m,\u001b[0m \u001b[0mp_k_w_d\u001b[0m\u001b[1;33m,\u001b[0m \u001b[0mK\u001b[0m\u001b[1;33m,\u001b[0m \u001b[0mw_len\u001b[0m\u001b[1;33m,\u001b[0m \u001b[0md_len\u001b[0m\u001b[1;33m,\u001b[0m \u001b[0mdoc_len_list\u001b[0m\u001b[1;33m)\u001b[0m\u001b[1;33m\u001b[0m\u001b[1;33m\u001b[0m\u001b[0m\n\u001b[0m\u001b[0;32m     17\u001b[0m     \u001b[0mprint\u001b[0m\u001b[1;33m(\u001b[0m\u001b[1;34m\"Time = {} sec\\n\"\u001b[0m\u001b[1;33m.\u001b[0m\u001b[0mformat\u001b[0m\u001b[1;33m(\u001b[0m\u001b[0mtime\u001b[0m\u001b[1;33m.\u001b[0m\u001b[0mtime\u001b[0m\u001b[1;33m(\u001b[0m\u001b[1;33m)\u001b[0m \u001b[1;33m-\u001b[0m \u001b[0mp_start\u001b[0m\u001b[1;33m)\u001b[0m\u001b[1;33m)\u001b[0m\u001b[1;33m\u001b[0m\u001b[1;33m\u001b[0m\u001b[0m\n\u001b[0;32m     18\u001b[0m     \u001b[0mL\u001b[0m \u001b[1;33m=\u001b[0m \u001b[0mloss\u001b[0m\u001b[1;33m(\u001b[0m\u001b[0mp_w_k\u001b[0m\u001b[1;33m,\u001b[0m \u001b[0mp_k_d\u001b[0m\u001b[1;33m,\u001b[0m \u001b[0mw_d\u001b[0m\u001b[1;33m,\u001b[0m \u001b[0mw_len\u001b[0m\u001b[1;33m,\u001b[0m \u001b[0md_len\u001b[0m\u001b[1;33m)\u001b[0m\u001b[1;33m\u001b[0m\u001b[1;33m\u001b[0m\u001b[0m\n",
      "\u001b[1;32m~\\anaconda3\\lib\\site-packages\\numba\\core\\typing\\typeof.py\u001b[0m in \u001b[0;36mtypeof\u001b[1;34m(val, purpose)\u001b[0m\n\u001b[0;32m     27\u001b[0m     \u001b[1;31m# Note the behaviour for Purpose.argument must match _typeof.c.\u001b[0m\u001b[1;33m\u001b[0m\u001b[1;33m\u001b[0m\u001b[1;33m\u001b[0m\u001b[0m\n\u001b[0;32m     28\u001b[0m     \u001b[0mc\u001b[0m \u001b[1;33m=\u001b[0m \u001b[0m_TypeofContext\u001b[0m\u001b[1;33m(\u001b[0m\u001b[0mpurpose\u001b[0m\u001b[1;33m)\u001b[0m\u001b[1;33m\u001b[0m\u001b[1;33m\u001b[0m\u001b[0m\n\u001b[1;32m---> 29\u001b[1;33m     \u001b[0mty\u001b[0m \u001b[1;33m=\u001b[0m \u001b[0mtypeof_impl\u001b[0m\u001b[1;33m(\u001b[0m\u001b[0mval\u001b[0m\u001b[1;33m,\u001b[0m \u001b[0mc\u001b[0m\u001b[1;33m)\u001b[0m\u001b[1;33m\u001b[0m\u001b[1;33m\u001b[0m\u001b[0m\n\u001b[0m\u001b[0;32m     30\u001b[0m     \u001b[1;32mif\u001b[0m \u001b[0mty\u001b[0m \u001b[1;32mis\u001b[0m \u001b[1;32mNone\u001b[0m\u001b[1;33m:\u001b[0m\u001b[1;33m\u001b[0m\u001b[1;33m\u001b[0m\u001b[0m\n\u001b[0;32m     31\u001b[0m         msg = _termcolor.errmsg(\n",
      "\u001b[1;32m~\\anaconda3\\lib\\functools.py\u001b[0m in \u001b[0;36mwrapper\u001b[1;34m(*args, **kw)\u001b[0m\n\u001b[0;32m    873\u001b[0m                             '1 positional argument')\n\u001b[0;32m    874\u001b[0m \u001b[1;33m\u001b[0m\u001b[0m\n\u001b[1;32m--> 875\u001b[1;33m         \u001b[1;32mreturn\u001b[0m \u001b[0mdispatch\u001b[0m\u001b[1;33m(\u001b[0m\u001b[0margs\u001b[0m\u001b[1;33m[\u001b[0m\u001b[1;36m0\u001b[0m\u001b[1;33m]\u001b[0m\u001b[1;33m.\u001b[0m\u001b[0m__class__\u001b[0m\u001b[1;33m)\u001b[0m\u001b[1;33m(\u001b[0m\u001b[1;33m*\u001b[0m\u001b[0margs\u001b[0m\u001b[1;33m,\u001b[0m \u001b[1;33m**\u001b[0m\u001b[0mkw\u001b[0m\u001b[1;33m)\u001b[0m\u001b[1;33m\u001b[0m\u001b[1;33m\u001b[0m\u001b[0m\n\u001b[0m\u001b[0;32m    876\u001b[0m \u001b[1;33m\u001b[0m\u001b[0m\n\u001b[0;32m    877\u001b[0m     \u001b[0mfuncname\u001b[0m \u001b[1;33m=\u001b[0m \u001b[0mgetattr\u001b[0m\u001b[1;33m(\u001b[0m\u001b[0mfunc\u001b[0m\u001b[1;33m,\u001b[0m \u001b[1;34m'__name__'\u001b[0m\u001b[1;33m,\u001b[0m \u001b[1;34m'singledispatch function'\u001b[0m\u001b[1;33m)\u001b[0m\u001b[1;33m\u001b[0m\u001b[1;33m\u001b[0m\u001b[0m\n",
      "\u001b[1;32m~\\anaconda3\\lib\\site-packages\\numba\\core\\typing\\typeof.py\u001b[0m in \u001b[0;36m_typeof_int\u001b[1;34m(val, c)\u001b[0m\n\u001b[0;32m    116\u001b[0m \u001b[1;32mdef\u001b[0m \u001b[0m_typeof_int\u001b[0m\u001b[1;33m(\u001b[0m\u001b[0mval\u001b[0m\u001b[1;33m,\u001b[0m \u001b[0mc\u001b[0m\u001b[1;33m)\u001b[0m\u001b[1;33m:\u001b[0m\u001b[1;33m\u001b[0m\u001b[1;33m\u001b[0m\u001b[0m\n\u001b[0;32m    117\u001b[0m     \u001b[1;31m# As in _typeof.c\u001b[0m\u001b[1;33m\u001b[0m\u001b[1;33m\u001b[0m\u001b[1;33m\u001b[0m\u001b[0m\n\u001b[1;32m--> 118\u001b[1;33m     \u001b[0mnbits\u001b[0m \u001b[1;33m=\u001b[0m \u001b[0mutils\u001b[0m\u001b[1;33m.\u001b[0m\u001b[0mbit_length\u001b[0m\u001b[1;33m(\u001b[0m\u001b[0mval\u001b[0m\u001b[1;33m)\u001b[0m\u001b[1;33m\u001b[0m\u001b[1;33m\u001b[0m\u001b[0m\n\u001b[0m\u001b[0;32m    119\u001b[0m     \u001b[1;32mif\u001b[0m \u001b[0mnbits\u001b[0m \u001b[1;33m<\u001b[0m \u001b[1;36m32\u001b[0m\u001b[1;33m:\u001b[0m\u001b[1;33m\u001b[0m\u001b[1;33m\u001b[0m\u001b[0m\n\u001b[0;32m    120\u001b[0m         \u001b[0mtyp\u001b[0m \u001b[1;33m=\u001b[0m \u001b[0mtypes\u001b[0m\u001b[1;33m.\u001b[0m\u001b[0mintp\u001b[0m\u001b[1;33m\u001b[0m\u001b[1;33m\u001b[0m\u001b[0m\n",
      "\u001b[1;32m~\\anaconda3\\lib\\site-packages\\numba\\core\\utils.py\u001b[0m in \u001b[0;36mbit_length\u001b[1;34m(intval)\u001b[0m\n\u001b[0;32m    353\u001b[0m     \u001b[1;32massert\u001b[0m \u001b[0misinstance\u001b[0m\u001b[1;33m(\u001b[0m\u001b[0mintval\u001b[0m\u001b[1;33m,\u001b[0m \u001b[0mINT_TYPES\u001b[0m\u001b[1;33m)\u001b[0m\u001b[1;33m\u001b[0m\u001b[1;33m\u001b[0m\u001b[0m\n\u001b[0;32m    354\u001b[0m     \u001b[1;32mif\u001b[0m \u001b[0mintval\u001b[0m \u001b[1;33m>=\u001b[0m \u001b[1;36m0\u001b[0m\u001b[1;33m:\u001b[0m\u001b[1;33m\u001b[0m\u001b[1;33m\u001b[0m\u001b[0m\n\u001b[1;32m--> 355\u001b[1;33m         \u001b[1;32mreturn\u001b[0m \u001b[0mlen\u001b[0m\u001b[1;33m(\u001b[0m\u001b[0mbin\u001b[0m\u001b[1;33m(\u001b[0m\u001b[0mintval\u001b[0m\u001b[1;33m)\u001b[0m\u001b[1;33m)\u001b[0m \u001b[1;33m-\u001b[0m \u001b[1;36m2\u001b[0m\u001b[1;33m\u001b[0m\u001b[1;33m\u001b[0m\u001b[0m\n\u001b[0m\u001b[0;32m    356\u001b[0m     \u001b[1;32melse\u001b[0m\u001b[1;33m:\u001b[0m\u001b[1;33m\u001b[0m\u001b[1;33m\u001b[0m\u001b[0m\n\u001b[0;32m    357\u001b[0m         \u001b[1;32mreturn\u001b[0m \u001b[0mlen\u001b[0m\u001b[1;33m(\u001b[0m\u001b[0mbin\u001b[0m\u001b[1;33m(\u001b[0m\u001b[1;33m-\u001b[0m\u001b[0mintval\u001b[0m \u001b[1;33m-\u001b[0m \u001b[1;36m1\u001b[0m\u001b[1;33m)\u001b[0m\u001b[1;33m)\u001b[0m \u001b[1;33m-\u001b[0m \u001b[1;36m2\u001b[0m\u001b[1;33m\u001b[0m\u001b[1;33m\u001b[0m\u001b[0m\n",
      "\u001b[1;31mKeyboardInterrupt\u001b[0m: "
     ]
    }
   ],
   "source": [
    "# PLSA Iteration\n",
    "full_time = time.time()\n",
    "L_temp = 0\n",
    "for i in range(iteration):\n",
    "    print('Iteration {}:\\n'.format(i+1))\n",
    "    print('\\nE_step_{}: '.format(i+1))\n",
    "    e_start = time.time()\n",
    "    p_k_w_d = E_step(p_k_w_d, p_w_k, p_k_d, w_len, d_len, K)\n",
    "    print(\"Time = {} sec\\n\".format(time.time() - e_start))\n",
    "    print('\\nM_step_{}: '.format(i+1))\n",
    "    m_start = time.time()\n",
    "    p_w_k = M_step(p_w_k, w_d, p_k_w_d, K, w_len, d_len)\n",
    "    print(\" Time = {} sec\\n\".format(time.time() - m_start))\n",
    "    print('P(Tk | dj)_{}: '.format(i+1))\n",
    "    p_start = time.time()\n",
    "    p_k_d = P_K_D(p_k_d, w_d, p_k_w_d, K, w_len, d_len, doc_len_list)\n",
    "    print(\"Time = {} sec\\n\".format(time.time() - p_start))\n",
    "    L = loss(p_w_k, p_k_d, w_d, w_len, d_len)\n",
    "    print('Loss_{} = {}\\n\\n'.format(i+1, abs(L-L_temp)))\n",
    "    L_temp = L\n",
    "print('Full Extime = {} min\\n'.format((time.time() - full_time) / 60))"
   ]
  },
  {
   "cell_type": "code",
   "execution_count": 18,
   "metadata": {
    "tags": []
   },
   "outputs": [
    {
     "output_type": "stream",
     "name": "stderr",
     "text": [
      "100%|██████████| 100/100 [03:27<00:00,  2.08s/it]\n"
     ]
    }
   ],
   "source": [
    "# query likelihood\n",
    "alpha = 0.75\n",
    "beta = 0.15\n",
    "term_2_1 = np.matmul(p_w_k, p_k_d, dtype=float)\n",
    "for q in tqdm(range(q_len)):\n",
    "        for d in range(d_len):\n",
    "            for w in query[q]:\n",
    "                term_1 = alpha * w_d[terms_set.index(w)][d] / doc_len_list[d]\n",
    "                term_2 = beta * term_2_1[terms_set.index(w)][d]\n",
    "                term_3 = (1 - alpha - beta) * bg[terms_set.index(w)] / all_d_len\n",
    "                p_q_d[q][d] *= (term_1 + term_2 + term_3)\n",
    "# file output\n",
    "fp = open(\"plsa_alpha_{}_beta_{}.txt\".format(alpha, beta), \"w\")\n",
    "fp.write(\"Query,RetrievedDocuments\\n\")\n",
    "for q in range(q_len):\n",
    "    fp.write('{},'.format(query_list[q]))\n",
    "    for s in np.argsort(-p_q_d[q])[:1000]:\n",
    "        fp.write(doc_list[s] + ' ')\n",
    "    fp.write('\\n')\n",
    "fp.close()"
   ]
  }
 ]
}
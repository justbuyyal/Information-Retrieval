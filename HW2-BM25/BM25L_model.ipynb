{
 "metadata": {
  "language_info": {
   "codemirror_mode": {
    "name": "ipython",
    "version": 3
   },
   "file_extension": ".py",
   "mimetype": "text/x-python",
   "name": "python",
   "nbconvert_exporter": "python",
   "pygments_lexer": "ipython3",
   "version": "3.8.3-final"
  },
  "orig_nbformat": 2,
  "kernelspec": {
   "name": "Python 3.8.3 64-bit (conda)",
   "display_name": "Python 3.8.3 64-bit (conda)",
   "metadata": {
    "interpreter": {
     "hash": "3e9d2a6ee55da41b3446ceada9d4218ac13142d6a2c7afb1935a377437333361"
    }
   }
  }
 },
 "nbformat": 4,
 "nbformat_minor": 2,
 "cells": [
  {
   "cell_type": "code",
   "execution_count": 1,
   "metadata": {},
   "outputs": [],
   "source": [
    "# IR HW2 BM25L model\n",
    "import numpy as np\n",
    "from math import log\n",
    "from tqdm import tqdm_notebook as tqdm\n",
    "from sklearn.preprocessing import normalize\n",
    "path = './ntust-ir-2020/'"
   ]
  },
  {
   "cell_type": "code",
   "execution_count": 2,
   "metadata": {},
   "outputs": [
    {
     "output_type": "display_data",
     "data": {
      "text/plain": "HBox(children=(FloatProgress(value=0.0, max=4191.0), HTML(value='')))",
      "application/vnd.jupyter.widget-view+json": {
       "version_major": 2,
       "version_minor": 0,
       "model_id": "37b232a071824746a2c30dc7e7912c49"
      }
     },
     "metadata": {}
    },
    {
     "output_type": "stream",
     "name": "stdout",
     "text": [
      "\n"
     ]
    }
   ],
   "source": [
    "# get doc files and query files\n",
    "doc = []\n",
    "doc_list = []\n",
    "query = []\n",
    "query_list = []\n",
    "terms_set = set()\n",
    "with open(path + 'doc_list.txt', 'r') as fd:\n",
    "    line = fd.read().splitlines()\n",
    "    for l in tqdm(line):\n",
    "        doc_list.append(l)\n",
    "        f_temp = open(path + 'docs/{}.txt'.format(l))\n",
    "        doc.append(f_temp.read().split())\n",
    "        f_temp.close()\n",
    "with open(path + 'query_list.txt', 'r') as fq:\n",
    "    line = fq.read().splitlines()\n",
    "    for l in line:\n",
    "        query_list.append(l)\n",
    "        f_temp = open(path + 'queries/{}.txt'.format(l))\n",
    "        temp = f_temp.read().split()\n",
    "        query.append(temp)\n",
    "        for w in temp: terms_set.add(w)\n",
    "        f_temp.close()"
   ]
  },
  {
   "cell_type": "code",
   "execution_count": 3,
   "metadata": {},
   "outputs": [],
   "source": [
    "# Calculate doc average length\n",
    "doc_len = []\n",
    "for d in doc:\n",
    "    doc_len.append(len(d))\n",
    "doc_avg = np.average(doc_len)\n",
    "query_len = []\n",
    "for q in query:\n",
    "    query_len.append(len(q))\n",
    "d_len = len(doc)\n",
    "q_len = len(query)\n",
    "terms_set = list(terms_set)\n",
    "terms_len = len(terms_set)"
   ]
  },
  {
   "cell_type": "code",
   "execution_count": 4,
   "metadata": {},
   "outputs": [],
   "source": [
    "sim_bm = np.zeros([q_len, d_len], dtype=float) # q_len * d_len"
   ]
  },
  {
   "cell_type": "code",
   "execution_count": 5,
   "metadata": {},
   "outputs": [],
   "source": [
    "idf_dic = dict()\n",
    "for t in terms_set:\n",
    "    c = 0\n",
    "    for d in range(d_len):\n",
    "        if(t in doc[d]): c+=1\n",
    "    idf_dic[t] = c"
   ]
  },
  {
   "cell_type": "code",
   "execution_count": 12,
   "metadata": {},
   "outputs": [],
   "source": [
    "K1 = 3\n",
    "K3 = d_len\n",
    "b = 0.85\n",
    "N = d_len\n",
    "delta = 0.4"
   ]
  },
  {
   "cell_type": "code",
   "execution_count": 13,
   "metadata": {},
   "outputs": [
    {
     "output_type": "display_data",
     "data": {
      "text/plain": "HBox(children=(FloatProgress(value=0.0, max=50.0), HTML(value='')))",
      "application/vnd.jupyter.widget-view+json": {
       "version_major": 2,
       "version_minor": 0,
       "model_id": "a678705a67984afd906369c5723642df"
      }
     },
     "metadata": {}
    },
    {
     "output_type": "stream",
     "name": "stdout",
     "text": [
      "\n"
     ]
    }
   ],
   "source": [
    "for q in tqdm(range(q_len)):\n",
    "    for d in range(d_len):\n",
    "        sum = 0\n",
    "        for w in query[q]:\n",
    "            idf_bm = 0\n",
    "            w_query = 0\n",
    "            w_doc = 0\n",
    "            if(w in doc[d]):\n",
    "                # idf\n",
    "                ni = idf_dic[w]\n",
    "                idf_bm = log((N - ni + 0.5) / (ni + 0.5))\n",
    "                # w_query\n",
    "                w_query = (K3 + 1) / (K3 + 1)\n",
    "                # w_doc\n",
    "                tf_d = doc[d].count(w)\n",
    "                tf_d_p = tf_d / (1 - b + b * doc_len[d] / doc_avg)\n",
    "                if(not (tf_d_p > 0)): tf_d_p = 0\n",
    "                w_doc = (K1 + 1) * (tf_d_p + delta) / (K1 + tf_d_p + delta)\n",
    "            sum += w_doc * w_query * idf_bm\n",
    "        sim_bm[q][d] = sum"
   ]
  },
  {
   "cell_type": "code",
   "execution_count": 14,
   "metadata": {},
   "outputs": [
    {
     "output_type": "display_data",
     "data": {
      "text/plain": "HBox(children=(FloatProgress(value=0.0, max=50.0), HTML(value='')))",
      "application/vnd.jupyter.widget-view+json": {
       "version_major": 2,
       "version_minor": 0,
       "model_id": "a299539ed80f435d9ef33bc783821263"
      }
     },
     "metadata": {}
    },
    {
     "output_type": "stream",
     "name": "stdout",
     "text": [
      "\n"
     ]
    }
   ],
   "source": [
    "# Create output file\n",
    "fp = open(\"vsm_result_k1_{}_b{}_s_{}.txt\".format(K1, b, delta), \"w\")\n",
    "fp.write(\"Query,RetrievedDocuments\\n\")\n",
    "for q in tqdm(range(q_len)):\n",
    "    fp.write('{},'.format(query_list[q]))\n",
    "    for s in np.argsort(-sim_bm[q]):\n",
    "        fp.write(doc_list[s] + ' ')\n",
    "    fp.write('\\n')\n",
    "fp.close()"
   ]
  }
 ]
}
{
 "metadata": {
  "language_info": {
   "codemirror_mode": {
    "name": "ipython",
    "version": 3
   },
   "file_extension": ".py",
   "mimetype": "text/x-python",
   "name": "python",
   "nbconvert_exporter": "python",
   "pygments_lexer": "ipython3",
   "version": "3.8.3-final"
  },
  "orig_nbformat": 2,
  "kernelspec": {
   "name": "python3",
   "display_name": "Python 3.8.3 64-bit (conda)",
   "metadata": {
    "interpreter": {
     "hash": "3e9d2a6ee55da41b3446ceada9d4218ac13142d6a2c7afb1935a377437333361"
    }
   }
  }
 },
 "nbformat": 4,
 "nbformat_minor": 2,
 "cells": [
  {
   "cell_type": "code",
   "execution_count": 1,
   "metadata": {},
   "outputs": [],
   "source": [
    "# IR HW5 Simple Mixture Model MAP@5000\n",
    "path = './ntust-ir-2020_hw5_new/'\n",
    "import numpy as np\n",
    "import time\n",
    "import random\n",
    "from tqdm import tqdm\n",
    "from numba import jit, objmode\n",
    "from numba.core import types\n",
    "from numba.typed import List\n",
    "from collections import Counter\n",
    "from math import log"
   ]
  },
  {
   "cell_type": "code",
   "execution_count": 2,
   "metadata": {},
   "outputs": [
    {
     "output_type": "stream",
     "name": "stderr",
     "text": [
      "100%|██████████| 30000/30000 [01:07<00:00, 445.40it/s]\n"
     ]
    }
   ],
   "source": [
    "# data of doc and query\n",
    "query = List()\n",
    "doc = List()\n",
    "# length of each doc\n",
    "doc_len = List()\n",
    "# name of doc and query\n",
    "query_list = []\n",
    "doc_list = []\n",
    "# vocabulary\n",
    "vocabulary = set()\n",
    "# vocabulary counting(TF)\n",
    "TF = []\n",
    "# BackGround Counting\n",
    "bg_tf = Counter()\n",
    "# BM25 query vocabulary\n",
    "bm25_vocabulary = set()\n",
    "# get doc files and query files\n",
    "with open(path + 'query_list.txt', 'r') as fq:\n",
    "    line = fq.read().splitlines()\n",
    "    for l in line:\n",
    "        query_list.append(l)\n",
    "        f_temp = open(path + 'queries/{}.txt'.format(l))\n",
    "        temp_query = f_temp.read().split()\n",
    "        for v in temp_query:\n",
    "            bm25_vocabulary.add(v)\n",
    "            vocabulary.add(v)\n",
    "        query.append(temp_query)\n",
    "        f_temp.close()\n",
    "with open(path + 'doc_list.txt', 'r') as fd:\n",
    "    line = fd.read().splitlines()\n",
    "    for l in tqdm(line):\n",
    "        doc_list.append(l)\n",
    "        f_temp = open(path + 'docs/{}.txt'.format(l))\n",
    "        temp_doc = f_temp.read().split()\n",
    "        doc.append(temp_doc)\n",
    "        TF.append(dict(Counter(temp_doc)))\n",
    "        bg_tf.update(temp_doc)\n",
    "        doc_len.append(len(temp_doc))\n",
    "        for w in temp_doc:\n",
    "            vocabulary.add(w)\n",
    "        f_temp.close()"
   ]
  },
  {
   "cell_type": "code",
   "execution_count": 3,
   "metadata": {},
   "outputs": [],
   "source": [
    "# BackGroud variable\n",
    "bg_len = np.sum(doc_len)\n",
    "# All doc, query and vocabulary length\n",
    "d_len = len(doc)\n",
    "q_len = len(query)\n",
    "w_len = len(vocabulary)\n",
    "# vocabulary to list\n",
    "vocabulary = list(vocabulary)\n",
    "bm25_vocabulary =list(bm25_vocabulary)\n",
    "bm25_len = len(bm25_vocabulary)"
   ]
  },
  {
   "cell_type": "code",
   "execution_count": 4,
   "metadata": {},
   "outputs": [
    {
     "output_type": "stream",
     "name": "stderr",
     "text": [
      "100%|██████████| 154240/154240 [00:00<00:00, 265337.83it/s]\n"
     ]
    }
   ],
   "source": [
    "# Probability BackGround Model\n",
    "P_bg = np.zeros(w_len, dtype=float)\n",
    "for w in tqdm(range(w_len)):\n",
    "    P_bg[w] = bg_tf[vocabulary[w]] / bg_len"
   ]
  },
  {
   "cell_type": "code",
   "execution_count": 5,
   "metadata": {},
   "outputs": [
    {
     "output_type": "stream",
     "name": "stdout",
     "text": [
      "150 30000 154240\n"
     ]
    }
   ],
   "source": [
    "print(q_len, d_len, w_len)"
   ]
  },
  {
   "cell_type": "code",
   "execution_count": 6,
   "metadata": {},
   "outputs": [],
   "source": [
    "# IDF\n",
    "@jit(nopython=True)\n",
    "def IDF(idf, doc_, bm25_voc, dl, bm25l):\n",
    "    with objmode(time1 = 'f8'):\n",
    "        time1 = time.perf_counter()\n",
    "    for d in range(dl):\n",
    "        for v in range(bm25l):\n",
    "            if(bm25_voc[v] in doc_[d]):\n",
    "                idf[v] += 1\n",
    "    with objmode():\n",
    "        print('time: {:.2f} mins\\n'.format((time.perf_counter() - time1) / 60))\n",
    "    return idf"
   ]
  },
  {
   "cell_type": "code",
   "execution_count": 7,
   "metadata": {},
   "outputs": [],
   "source": [
    "# BM25 model variable\n",
    "bm_sim = np.zeros([q_len, d_len], dtype=float) # 150 x 30000\n",
    "K1 = 0.8\n",
    "b = 0.7\n",
    "N = d_len\n",
    "avg_dl = np.average(doc_len)"
   ]
  },
  {
   "cell_type": "code",
   "execution_count": 8,
   "metadata": {},
   "outputs": [
    {
     "output_type": "stream",
     "name": "stdout",
     "text": [
      "time: 6.49 mins\n\n"
     ]
    }
   ],
   "source": [
    "# BM25 IDF\n",
    "idf_doc = np.zeros(len(bm25_vocabulary), dtype=int)\n",
    "idf_doc = IDF(idf_doc, doc, bm25_vocabulary, d_len, bm25_len)"
   ]
  },
  {
   "cell_type": "code",
   "execution_count": 9,
   "metadata": {},
   "outputs": [],
   "source": [
    "# B25 Model\n",
    "@jit(nopython=True)\n",
    "def BM25(sim, k1, b_, N_, avg, dl_list, dl, ql, Doc, Query, idf_, bm_voc):\n",
    "    with objmode(time1='f8'):\n",
    "        time1 = time.perf_counter()\n",
    "    for q in range(ql):\n",
    "        for d in range(dl):\n",
    "            sum = 0.0\n",
    "            for w in Query[q]:\n",
    "                sum_tmp = 1.0\n",
    "                if(w in Doc[d]):\n",
    "                    w_tf = Doc[d].count(w)\n",
    "                    ni_loc = bm_voc.index(w)\n",
    "                    ni = idf_[ni_loc]\n",
    "                    sum_tmp = (k1 + 1) * w_tf / (k1 * ((1 - b) + b * dl_list[d] / avg) + w_tf)\n",
    "                    sum_tmp *= log((N_ - ni + 0.5) / (ni + 0.5))\n",
    "                sum += sum_tmp\n",
    "            sim[q][d] = sum\n",
    "    with objmode():\n",
    "        print('time: {:.2f} mins\\n'.format((time.perf_counter() - time1) / 60))\n",
    "    return sim"
   ]
  },
  {
   "cell_type": "code",
   "execution_count": 10,
   "metadata": {},
   "outputs": [
    {
     "output_type": "stream",
     "name": "stdout",
     "text": [
      "time: 5.62 mins\n\n"
     ]
    }
   ],
   "source": [
    "bm_sim = BM25(bm_sim, K1, b, N, avg_dl, doc_len, d_len, q_len, doc, query, idf_doc, bm25_vocabulary)"
   ]
  },
  {
   "cell_type": "code",
   "execution_count": 11,
   "metadata": {},
   "outputs": [],
   "source": [
    "# file output\n",
    "fp = open(\"bm25.txt\", \"w\")\n",
    "fp.write(\"Query,RetrievedDocuments\\n\")\n",
    "for q in range(q_len):\n",
    "    fp.write('{},'.format(query_list[q]))\n",
    "    for s in np.argsort(-bm_sim[q])[:5000]:\n",
    "        fp.write(doc_list[s] + ' ')\n",
    "    fp.write('\\n')\n",
    "fp.close()"
   ]
  },
  {
   "cell_type": "code",
   "execution_count": 12,
   "metadata": {},
   "outputs": [
    {
     "output_type": "stream",
     "name": "stderr",
     "text": [
      "100%|██████████| 150/150 [00:02<00:00, 73.81it/s]\n"
     ]
    }
   ],
   "source": [
    "# SMM variable\n",
    "SMM_1 = 5000\n",
    "SMM_2 = 3000\n",
    "SMM_3 = 1000\n",
    "Rq_1 = []\n",
    "Rq_2 = []\n",
    "Rq_3 = []\n",
    "for q in tqdm(range(q_len)):\n",
    "    for s in np.argsort(-bm_sim[q])[:SMM_1]:\n",
    "        Rq_1.append(doc[s])\n",
    "Rq_2 = Rq_1[:SMM_2]\n",
    "Rq_3 = Rq_1[:SMM_3]"
   ]
  },
  {
   "cell_type": "code",
   "execution_count": 13,
   "metadata": {},
   "outputs": [],
   "source": [
    "# Simple Mixture Model initialization\n",
    "PSMM_temp = np.zeros(w_len, dtype=float)\n",
    "P_Tsmm_temp = np.zeros(w_len, dtype=float)\n",
    "# Random\n",
    "r_sum = 0\n",
    "for w in range(w_len):\n",
    "    p_temp = random.uniform(1.0, 10.0)\n",
    "    PSMM_temp[w] = p_temp\n",
    "    r_sum += p_temp\n",
    "for w in range(w_len):\n",
    "    PSMM_temp[w] /= r_sum"
   ]
  },
  {
   "cell_type": "code",
   "execution_count": 14,
   "metadata": {},
   "outputs": [],
   "source": [
    "PSMM_1 = PSMM_temp\n",
    "P_Tsmm_1 = P_Tsmm_temp"
   ]
  },
  {
   "cell_type": "code",
   "execution_count": 15,
   "metadata": {},
   "outputs": [],
   "source": [
    "# SMM E_step\n",
    "@jit(nopython=True)\n",
    "def E_step(tsmm, alpha_, psmm, p_bg, wl):\n",
    "    for w in range(wl):\n",
    "        tmss[w] = ((1 - alpha_) * psmm[w]) / ((1 - alpha_) * psmm[w] + alpha_ * p_bg[w])\n",
    "    return tmss"
   ]
  },
  {
   "cell_type": "code",
   "execution_count": 16,
   "metadata": {},
   "outputs": [],
   "source": [
    "# SMM M_step\n",
    "@jit(nopython=True)\n",
    "def M_step(psmm, rel_doc, Vocabulary, tmss, wl):\n",
    "    den = 0\n",
    "    for w in range(wl):\n",
    "        for d in rel_doc:\n",
    "            den += d.count(Vocabulary[w]) * tmss[w]\n",
    "    for w in range(wl):\n",
    "        mol = 0\n",
    "        for d in rel_doc:\n",
    "            mol += d.count(Vocabulary[w]) * tmss[w]\n",
    "        psmm[w] = mol / den\n",
    "    return psmm"
   ]
  },
  {
   "cell_type": "code",
   "execution_count": null,
   "metadata": {},
   "outputs": [],
   "source": [
    "iter = 1\n",
    "alpha = 0.8\n",
    "# Processing time\n",
    "# full_time = time.time()\n",
    "for i in tqdm(range(iter)):\n",
    "    print(\"E_step_{}:\\n\".format(i+1))\n",
    "    e_start = time.time()\n",
    "    P_Tsmm_1 = E_step(P_Tsmm_1, alpha, PSMM_1, P_bg, w_len)\n",
    "    print(\"E_time: {:.2f} mins\\n\".format((e_start - time.time()) / 60))\n",
    "    print(\"M_step_{}:\\n\".format(i+1))\n",
    "    m_start = time.time()\n",
    "    PSMM_1 = M_step(PSMM_1, Rq_1, vocabulary, P_Tsmm_1, w_len)\n",
    "    print(\"M_time: {:.2f} mins\\n\".format((m_start - time.time()) / 60))\n",
    "# print('Full Extime = {:.2f} mins\\n'.format((time.time() - full_time) / 60))"
   ]
  },
  {
   "cell_type": "code",
   "execution_count": null,
   "metadata": {},
   "outputs": [],
   "source": [
    "# KL Divergence\n",
    "kl_div = np.zeros([q_len, d_len], dtype=float)"
   ]
  }
 ]
}
{
 "metadata": {
  "language_info": {
   "codemirror_mode": {
    "name": "ipython",
    "version": 3
   },
   "file_extension": ".py",
   "mimetype": "text/x-python",
   "name": "python",
   "nbconvert_exporter": "python",
   "pygments_lexer": "ipython3",
   "version": "3.8.3-final"
  },
  "orig_nbformat": 2,
  "kernelspec": {
   "name": "python3",
   "display_name": "Python 3"
  }
 },
 "nbformat": 4,
 "nbformat_minor": 2,
 "cells": [
  {
   "cell_type": "code",
   "execution_count": 57,
   "metadata": {},
   "outputs": [
    {
     "output_type": "stream",
     "name": "stdout",
     "text": [
      "0.4471\n"
     ]
    }
   ],
   "source": [
    "map = 0.0\n",
    "query = int(input())\n",
    "for i in range(query):\n",
    "    documents = input().split()\n",
    "    relevant_documents = input().split()\n",
    "    n = 0 # rel_count\n",
    "    for d in range(len(documents)):\n",
    "        if(documents[d] in relevant_documents):\n",
    "            n += 1\n",
    "            map += (n / (d + 1)) / len(relevant_documents)\n",
    "map /= query\n",
    "print(round(map, 4))"
   ]
  }
 ]
}